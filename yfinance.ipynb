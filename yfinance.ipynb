{
 "cells": [
  {
   "cell_type": "code",
   "execution_count": 1,
   "metadata": {},
   "outputs": [],
   "source": [
    "import numpy as np\n",
    "import pandas as pd\n",
    "import matplotlib.pyplot as plt \n",
    "# instalar : pip install pandas_datareader\n",
    "import pandas_datareader.data as web\n",
    "# instalar : pip install yfinance --upgrade --no-cache-dir\n",
    "import yfinance as yf\n",
    "# usar para não dar erro no código: yf.pdr_override()\n",
    "import seaborn as sns"
   ]
  },
  {
   "cell_type": "code",
   "execution_count": null,
   "metadata": {},
   "outputs": [],
   "source": [
    "# criamos a viariavel tickers que vai fazer metodo web para buscar no yfinance algumas das empresa de energia mais renomadas.\n",
    "tickers = [\"CESP6.SA\", \"WEGE3.SA\", \"ENEV3.SA\", \"ELET3.SA\", \"CMIG3.SA\"]\n",
    "#aqui pegamos os dados desde 2017\n",
    "acao = web.get_data_yahoo(tickers, period=\"5y\")[\"Adj Close\"]\n",
    "#pegamos os dados da tesla também para fazermos o comparativo\n",
    "tesla = web.get_data_yahoo(\"TSLA34.SA\", period='5y')['Adj Close']"
   ]
  },
  {
   "cell_type": "code",
   "execution_count": null,
   "metadata": {},
   "outputs": [],
   "source": [
    "#plotando o grafico de todas empresas acima\n",
    "snr.set\n",
    "acao.plot(figsize = (20,9))"
   ]
  },
  {
   "cell_type": "code",
   "execution_count": null,
   "metadata": {},
   "outputs": [],
   "source": [
    "# normalizando os dados das acoes\n",
    "acao_norma = (acao / acao.iloc[0])*10000\n",
    "acao_norma\n",
    "\n",
    "# fazendo a soma atraves da primeira linha\n",
    "acao_norma['Saldo'] = acao_norma.sum(axis=1)\n",
    "acao_norma"
   ]
  },
  {
   "cell_type": "code",
   "execution_count": null,
   "metadata": {},
   "outputs": [],
   "source": [
    "#normalizando so da dados da tesla.\n",
    "tesla_norma = (tesla / tesla.iloc[0])*5000\n",
    "tesla_norma"
   ]
  },
  {
   "cell_type": "code",
   "execution_count": null,
   "metadata": {},
   "outputs": [],
   "source": [
    "#aqui plotamos os graficos e observamos que se tivessemos feito mesmo a compra das açoes hoje conseguiriamos comprar a tesla.\n",
    "acao_norma['Saldo'].plot(figsize=(20,8), label='Ações')\n",
    "tesla_norma.plot(label='TESLA')\n",
    "plt.legend()"
   ]
  },
  {
   "cell_type": "code",
   "execution_count": null,
   "metadata": {},
   "outputs": [],
   "source": [
    "# Finalizamos a analise acima agora iremos analisar a empresa aérea GOL separadamente."
   ]
  },
  {
   "cell_type": "code",
   "execution_count": null,
   "metadata": {},
   "outputs": [],
   "source": [
    "acao_gol = web.get_data_yahoo('GOL', start= '2010-01-02', end= '2022-03-01')"
   ]
  },
  {
   "cell_type": "code",
   "execution_count": null,
   "metadata": {},
   "outputs": [],
   "source": [
    "# visualição dos dados obtidos nesse caso da empresa area GOL.\n",
    "display(acao_gol)"
   ]
  },
  {
   "cell_type": "code",
   "execution_count": null,
   "metadata": {},
   "outputs": [],
   "source": [
    "# aqui ja observamos visualmente os dados utulizando o grafico.\n",
    "acao_gol[\"Close\"].plot(figsize=(22,8), label=\"GOL\")\n",
    "acao_gol[\"Close\"].rolling (22).mean().plot(label=\"M22\")\n",
    "acao_gol[\"Close\"].rolling (200).mean().plot(label=\"M200\")\n",
    "plt.legend()"
   ]
  },
  {
   "cell_type": "code",
   "execution_count": null,
   "metadata": {},
   "outputs": [],
   "source": [
    "# Fizemos uma alteração para olharmos so o ano de 2021.\n",
    "gol_partes = acao_gol[acao_gol.index.year == 2021]\n",
    "gol_partes[\"Close\"].plot(figsize=(22,8), label=\"GOL\")\n",
    "gol_partes[\"Close\"].rolling (21).mean().plot(label=\"M22\")\n",
    "gol_partes[\"Close\"].rolling (200).mean().plot(label=\"M200\")\n",
    "plt.legend()"
   ]
  },
  {
   "cell_type": "code",
   "execution_count": null,
   "metadata": {},
   "outputs": [],
   "source": [
    "# Outra alteção iremos ver como ficou o grafico do ano de 2017 ate o atual momento\n",
    "gol_partes = acao_gol[(acao_gol.index.year >= 2017) & (acao_gol.index.year <= 2022)] \n",
    "gol_partes[\"Close\"].plot(figsize=(22,8), label=\"GOL\")\n",
    "gol_partes[\"Close\"].rolling (21).mean().plot(label=\"M22\")\n",
    "gol_partes[\"Close\"].rolling (200).mean().plot(label=\"M200\")\n",
    "plt.legend()"
   ]
  },
  {
   "cell_type": "code",
   "execution_count": null,
   "metadata": {},
   "outputs": [],
   "source": [
    "# fizemos outra divisão para os meses de novembro, limitamos 50 linhas,\n",
    "acao_gol = acao_gol[acao_gol.index.month == 11]\n",
    "acao_gol.tail(50)\n",
    "# todos dias 16 do nossos dados obtidos atraves do finance yahoo\n",
    "acao_gol = acao_gol[acao_gol.index.day == 16]\n",
    "display(acao_gol)"
   ]
  }
 ],
 "metadata": {
  "interpreter": {
   "hash": "916dbcbb3f70747c44a77c7bcd40155683ae19c65e1c03b4aa3499c5328201f1"
  },
  "kernelspec": {
   "display_name": "Python 3.9.7 64-bit",
   "language": "python",
   "name": "python3"
  },
  "language_info": {
   "codemirror_mode": {
    "name": "ipython",
    "version": 3
   },
   "file_extension": ".py",
   "mimetype": "text/x-python",
   "name": "python",
   "nbconvert_exporter": "python",
   "pygments_lexer": "ipython3",
   "version": "3.9.7"
  },
  "orig_nbformat": 4
 },
 "nbformat": 4,
 "nbformat_minor": 2
}
